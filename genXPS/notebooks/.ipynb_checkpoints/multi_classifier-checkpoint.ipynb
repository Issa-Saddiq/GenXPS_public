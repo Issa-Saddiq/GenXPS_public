{
 "cells": [
  {
   "cell_type": "code",
   "execution_count": 13,
   "metadata": {},
   "outputs": [],
   "source": [
    "import torch\n",
    "from sklearn.model_selection import train_test_split\n",
    "from torch import nn\n",
    "import os \n",
    "import csv\n",
    "import random\n",
    "import numpy as np\n",
    "import pandas as pd\n",
    "import matplotlib.pyplot as plt\n",
    "from pathlib import Path"
   ]
  },
  {
   "cell_type": "markdown",
   "metadata": {},
   "source": [
    "# Device Setup"
   ]
  },
  {
   "cell_type": "code",
   "execution_count": 14,
   "metadata": {},
   "outputs": [
    {
     "name": "stdout",
     "output_type": "stream",
     "text": [
      "Using device: cuda\n",
      "GPU Name: NVIDIA GeForce RTX 3060 Laptop GPU\n",
      "Number of GPUs available: 1\n"
     ]
    }
   ],
   "source": [
    "device = torch.device(\"cuda\" if torch.cuda.is_available() else \"cpu\")\n",
    "print(f\"Using device: {device}\")\n",
    "\n",
    "# Optionally, you can print more details about the GPU if available\n",
    "if torch.cuda.is_available():\n",
    "    print(f\"GPU Name: {torch.cuda.get_device_name(0)}\")\n",
    "    print(f\"Number of GPUs available: {torch.cuda.device_count()}\")"
   ]
  },
  {
   "cell_type": "markdown",
   "metadata": {},
   "source": [
    "# Data Preparation\n",
    "Still need to create binary label!\n"
   ]
  },
  {
   "cell_type": "code",
   "execution_count": 15,
   "metadata": {},
   "outputs": [],
   "source": [
    "def fg_checker(label):\n",
    "    bin_fg_list = []\n",
    "    for i in range(len(label)):\n",
    "        if float(label[i]) == 0:\n",
    "            bin_fg_list.append(0)\n",
    "        else:\n",
    "            bin_fg_list.append(1)\n",
    "    \n",
    "    return bin_fg_list\n"
   ]
  },
  {
   "cell_type": "code",
   "execution_count": 16,
   "metadata": {},
   "outputs": [
    {
     "name": "stdout",
     "output_type": "stream",
     "text": [
      "torch.Size([20000, 1600])\n",
      "torch.Size([20000, 39])\n",
      "1600 39\n"
     ]
    }
   ],
   "source": [
    "# prepare list of file paths for file handeling\n",
    "spectra_dir = Path('../data/synthetic_data_big/synthetic_spectra')\n",
    "labels_dir = Path('../data/synthetic_data_big/synthetic_labels')\n",
    "\n",
    "all_spectra = [spectra_dir / file for file in os.listdir(spectra_dir)]\n",
    "all_labels = [labels_dir / file for file in os.listdir(labels_dir)]\n",
    "\n",
    "#extracting synthetic spectrum data and converting to tensor\n",
    "all_spectra.sort(key=lambda x: int(x.stem.split('_')[1]))\n",
    "spectrum_list = []\n",
    "for spectra_path in all_spectra:\n",
    "    spectrum_df = pd.read_csv(spectra_path)\n",
    "    spectrum_list.append(spectrum_df)\n",
    "\n",
    "spectrum_array = np.array(spectrum_list).squeeze()\n",
    "spectrum_tensor = torch.tensor(spectrum_array,dtype=torch.float32)\n",
    "\n",
    "#extracting synthetic label data and converting to tensor\n",
    "all_labels.sort(key=lambda x: int(x.stem.split('_')[1]))\n",
    "label_list = []\n",
    "for label_path in all_labels:\n",
    "    label_df = pd.read_csv(label_path)\n",
    "    label_list.append(label_df)\n",
    "\n",
    "label_array = np.array(label_list).squeeze()\n",
    "bin_label_array = np.array([fg_checker(i) for i in label_array])\n",
    "\n",
    "\n",
    "label_tensor = torch.tensor(bin_label_array,dtype=torch.float32)\n",
    "\n",
    "print(spectrum_tensor.shape)\n",
    "print(label_tensor.shape)\n",
    "\n",
    "\n",
    "#split into traning/testing batches\n",
    "\n",
    "X_train, X_test, y_train, y_test = train_test_split(spectrum_tensor, \n",
    "                                                    label_tensor, \n",
    "                                                    test_size=0.2, # 20% test, 80% train\n",
    "                                                    random_state=42) # make the random split reproducible\n",
    "\n",
    "len(X_train), len(X_test), len(y_train), len(y_test)\n",
    "\n",
    "input_features = spectrum_tensor.shape[1]\n",
    "ouput_features = label_tensor.shape[1]\n",
    "\n",
    "print(input_features,ouput_features)\n"
   ]
  },
  {
   "cell_type": "markdown",
   "metadata": {},
   "source": [
    "# Setting Up Model"
   ]
  },
  {
   "cell_type": "code",
   "execution_count": 17,
   "metadata": {},
   "outputs": [],
   "source": [
    "# 1. Construct a model class that subclasses nn.Module\n",
    "class MultiClassifierV0(nn.Module):\n",
    "    def __init__(self):\n",
    "        super().__init__()\n",
    "        # 2. Create 2 nn.Linear layers capable of handling X and y input and output shapes\n",
    "        self.layer_1 = nn.Linear(in_features=input_features, out_features=1024)\n",
    "        self.layer_2 = nn.Linear(in_features=1024, out_features=512)\n",
    "        self.layer_3 = nn.Linear(in_features=512, out_features=256)\n",
    "        self.layer_4 = nn.Linear(in_features=256, out_features=128)\n",
    "        self.layer_5 = nn.Linear(in_features=128, out_features=ouput_features) # takes in 5 features, produces 5 feature (y)\n",
    "    \n",
    "        # Activation function\n",
    "        self.activation = nn.LeakyReLU(negative_slope=0.01)\n",
    "        \n",
    "        # Dropout for regularization\n",
    "        self.dropout = nn.Dropout(p=0.3)\n",
    "\n",
    "    def forward(self, x):\n",
    "        x = self.activation(self.layer_1(x))\n",
    "        x = self.dropout(x)\n",
    "        x = self.activation(self.layer_2(x))\n",
    "        x = self.dropout(x)\n",
    "        x = self.activation(self.layer_3(x))\n",
    "        x = self.dropout(x)\n",
    "        x = self.activation(self.layer_4(x))\n",
    "        x = self.dropout(x)\n",
    "        x = self.activation(self.layer_5(x))  # Output layer (logits)\n",
    "        return x\n",
    "\n",
    "\n",
    "# 4. Create an instance of the model and send it to target device\n",
    "model_0 = MultiClassifierV0().to(device)\n",
    "model_0 \n",
    "\n",
    "loss_fn = nn.BCEWithLogitsLoss()\n",
    "optimizer = torch.optim.Adam(model_0.parameters(), lr=1e-4)\n",
    "scheduler = torch.optim.lr_scheduler.ReduceLROnPlateau(optimizer, mode='min', factor=0.1, patience=10)\n",
    "\n",
    "# Calculate accuracy (a classification metric)\n",
    "def accuracy_fn(y_true, y_pred):\n",
    "    # Check if all 39 classes match for each sample\n",
    "    correct = (y_true == y_pred).all(axis=1).sum().item()  # Use .all(axis=1) to check all classes\n",
    "    acc = (correct / len(y_true)) * 100  # Calculate accuracy as a percentage\n",
    "    return acc\n",
    "\n",
    "# Create a list to store loss values\n",
    "training_loss_values = []\n",
    "testing_loss_values = []"
   ]
  },
  {
   "cell_type": "markdown",
   "metadata": {},
   "source": [
    "# Training"
   ]
  },
  {
   "cell_type": "code",
   "execution_count": 38,
   "metadata": {},
   "outputs": [
    {
     "name": "stdout",
     "output_type": "stream",
     "text": [
      "Epoch: 0 | Loss: 0.01188, Accuracy: 84.36% | Test loss: 0.03690, Test acc: 79.70%\n",
      "Epoch: 100 | Loss: 0.01129, Accuracy: 85.07% | Test loss: 0.03824, Test acc: 79.95%\n",
      "Epoch: 200 | Loss: 0.01136, Accuracy: 85.11% | Test loss: 0.04037, Test acc: 79.77%\n",
      "Epoch: 300 | Loss: 0.01117, Accuracy: 85.34% | Test loss: 0.03900, Test acc: 79.85%\n"
     ]
    },
    {
     "ename": "KeyboardInterrupt",
     "evalue": "",
     "output_type": "error",
     "traceback": [
      "\u001b[0;31m---------------------------------------------------------------------------\u001b[0m",
      "\u001b[0;31mKeyboardInterrupt\u001b[0m                         Traceback (most recent call last)",
      "Cell \u001b[0;32mIn[38], line 24\u001b[0m\n\u001b[1;32m     19\u001b[0m \u001b[38;5;66;03m# 2. Calculate loss/accuracy\u001b[39;00m\n\u001b[1;32m     20\u001b[0m \u001b[38;5;66;03m# loss = loss_fn(torch.sigmoid(y_logits), # Using nn.BCELoss you need torch.sigmoid()\u001b[39;00m\n\u001b[1;32m     21\u001b[0m \u001b[38;5;66;03m#                y_train) \u001b[39;00m\n\u001b[1;32m     22\u001b[0m loss \u001b[38;5;241m=\u001b[39m loss_fn(y_logits, \u001b[38;5;66;03m# Using nn.BCEWithLogitsLoss works with raw logits\u001b[39;00m\n\u001b[1;32m     23\u001b[0m                y_train) \n\u001b[0;32m---> 24\u001b[0m acc \u001b[38;5;241m=\u001b[39m \u001b[43maccuracy_fn\u001b[49m\u001b[43m(\u001b[49m\u001b[43my_true\u001b[49m\u001b[38;5;241;43m=\u001b[39;49m\u001b[43my_train\u001b[49m\u001b[43m,\u001b[49m\u001b[43m \u001b[49m\n\u001b[1;32m     25\u001b[0m \u001b[43m                  \u001b[49m\u001b[43my_pred\u001b[49m\u001b[38;5;241;43m=\u001b[39;49m\u001b[43my_pred\u001b[49m\u001b[43m)\u001b[49m \n\u001b[1;32m     27\u001b[0m \u001b[38;5;66;03m# 3. Optimizer zero grad\u001b[39;00m\n\u001b[1;32m     28\u001b[0m optimizer\u001b[38;5;241m.\u001b[39mzero_grad()\n",
      "Cell \u001b[0;32mIn[17], line 42\u001b[0m, in \u001b[0;36maccuracy_fn\u001b[0;34m(y_true, y_pred)\u001b[0m\n\u001b[1;32m     40\u001b[0m \u001b[38;5;28;01mdef\u001b[39;00m \u001b[38;5;21maccuracy_fn\u001b[39m(y_true, y_pred):\n\u001b[1;32m     41\u001b[0m     \u001b[38;5;66;03m# Check if all 39 classes match for each sample\u001b[39;00m\n\u001b[0;32m---> 42\u001b[0m     correct \u001b[38;5;241m=\u001b[39m \u001b[43m(\u001b[49m\u001b[43my_true\u001b[49m\u001b[43m \u001b[49m\u001b[38;5;241;43m==\u001b[39;49m\u001b[43m \u001b[49m\u001b[43my_pred\u001b[49m\u001b[43m)\u001b[49m\u001b[38;5;241;43m.\u001b[39;49m\u001b[43mall\u001b[49m\u001b[43m(\u001b[49m\u001b[43maxis\u001b[49m\u001b[38;5;241;43m=\u001b[39;49m\u001b[38;5;241;43m1\u001b[39;49m\u001b[43m)\u001b[49m\u001b[38;5;241;43m.\u001b[39;49m\u001b[43msum\u001b[49m\u001b[43m(\u001b[49m\u001b[43m)\u001b[49m\u001b[38;5;241;43m.\u001b[39;49m\u001b[43mitem\u001b[49m\u001b[43m(\u001b[49m\u001b[43m)\u001b[49m  \u001b[38;5;66;03m# Use .all(axis=1) to check all classes\u001b[39;00m\n\u001b[1;32m     43\u001b[0m     acc \u001b[38;5;241m=\u001b[39m (correct \u001b[38;5;241m/\u001b[39m \u001b[38;5;28mlen\u001b[39m(y_true)) \u001b[38;5;241m*\u001b[39m \u001b[38;5;241m100\u001b[39m  \u001b[38;5;66;03m# Calculate accuracy as a percentage\u001b[39;00m\n\u001b[1;32m     44\u001b[0m     \u001b[38;5;28;01mreturn\u001b[39;00m acc\n",
      "\u001b[0;31mKeyboardInterrupt\u001b[0m: "
     ]
    }
   ],
   "source": [
    "torch.manual_seed(42)\n",
    "\n",
    "# Set the number of epochs\n",
    "epochs = 10000\n",
    "\n",
    "# Put data to target device\n",
    "X_train, y_train = X_train.to(device), y_train.to(device)\n",
    "X_test, y_test = X_test.to(device), y_test.to(device)\n",
    "\n",
    "# Build training and evaluation loop\n",
    "for epoch in range(epochs):\n",
    "    ### Training\n",
    "    model_0.train()\n",
    "\n",
    "    # 1. Forward pass (model outputs raw logits)\n",
    "    y_logits = model_0(X_train).squeeze() # squeeze to remove extra `1` dimensions, this won't work unless model and data are on same device \n",
    "    y_pred = torch.round(torch.sigmoid(y_logits)) # turn logits -> pred probs -> pred labls\n",
    "  \n",
    "    # 2. Calculate loss/accuracy\n",
    "    # loss = loss_fn(torch.sigmoid(y_logits), # Using nn.BCELoss you need torch.sigmoid()\n",
    "    #                y_train) \n",
    "    loss = loss_fn(y_logits, # Using nn.BCEWithLogitsLoss works with raw logits\n",
    "                   y_train) \n",
    "    acc = accuracy_fn(y_true=y_train, \n",
    "                      y_pred=y_pred) \n",
    "\n",
    "    # 3. Optimizer zero grad\n",
    "    optimizer.zero_grad()\n",
    "\n",
    "    # 4. Loss backwards\n",
    "    loss.backward()\n",
    "\n",
    "    # 5. Optimizer step\n",
    "    optimizer.step()\n",
    "\n",
    "    # Append the loss value to the list\n",
    "    training_loss_values.append(loss.item())\n",
    "\n",
    "    ### Testing\n",
    "    model_0.eval()\n",
    "    with torch.inference_mode():\n",
    "        # 1. Forward pass\n",
    "        test_logits = model_0(X_test).squeeze() \n",
    "        test_pred = torch.round(torch.sigmoid(test_logits))\n",
    "        # 2. Caculate loss/accuracy\n",
    "        test_loss = loss_fn(test_logits,\n",
    "                            y_test)\n",
    "        testing_loss_values.append(test_loss.cpu().numpy())\n",
    "        test_acc = accuracy_fn(y_true=y_test,\n",
    "                               y_pred=test_pred)\n",
    "\n",
    "    # Print out what's happening every 10 epochs\n",
    "    if epoch % 100 == 0:\n",
    "        print(f\"Epoch: {epoch} | Loss: {loss:.5f}, Accuracy: {acc:.2f}% | Test loss: {test_loss:.5f}, Test acc: {test_acc:.2f}%\")"
   ]
  },
  {
   "cell_type": "code",
   "execution_count": 1,
   "metadata": {},
   "outputs": [
    {
     "ename": "NameError",
     "evalue": "name 'plt' is not defined",
     "output_type": "error",
     "traceback": [
      "\u001b[0;31m---------------------------------------------------------------------------\u001b[0m",
      "\u001b[0;31mNameError\u001b[0m                                 Traceback (most recent call last)",
      "Cell \u001b[0;32mIn[1], line 2\u001b[0m\n\u001b[1;32m      1\u001b[0m \u001b[38;5;66;03m#  plot training curve\u001b[39;00m\n\u001b[0;32m----> 2\u001b[0m \u001b[43mplt\u001b[49m\u001b[38;5;241m.\u001b[39mfigure(figsize\u001b[38;5;241m=\u001b[39m(\u001b[38;5;241m10\u001b[39m, \u001b[38;5;241m5\u001b[39m))\n\u001b[1;32m      3\u001b[0m plt\u001b[38;5;241m.\u001b[39mplot(training_loss_values, label\u001b[38;5;241m=\u001b[39m\u001b[38;5;124m'\u001b[39m\u001b[38;5;124mTraining Loss\u001b[39m\u001b[38;5;124m'\u001b[39m)\n\u001b[1;32m      4\u001b[0m plt\u001b[38;5;241m.\u001b[39mplot(testing_loss_values, label\u001b[38;5;241m=\u001b[39m\u001b[38;5;124m'\u001b[39m\u001b[38;5;124mTest Loss\u001b[39m\u001b[38;5;124m'\u001b[39m)\n",
      "\u001b[0;31mNameError\u001b[0m: name 'plt' is not defined"
     ]
    }
   ],
   "source": [
    "#  plot training curve\n",
    "plt.figure(figsize=(10, 5))\n",
    "plt.plot(training_loss_values, label='Training Loss')\n",
    "plt.plot(testing_loss_values, label='Test Loss')\n",
    "plt.title('Training and Test Loss Over Time')\n",
    "plt.xlabel('Epochs')\n",
    "plt.ylabel('Loss')\n",
    "plt.legend()\n",
    "plt.show()"
   ]
  },
  {
   "cell_type": "markdown",
   "metadata": {},
   "source": [
    "# Save the Model"
   ]
  },
  {
   "cell_type": "code",
   "execution_count": 46,
   "metadata": {},
   "outputs": [
    {
     "ename": "RuntimeError",
     "evalue": "File ../models cannot be opened.",
     "output_type": "error",
     "traceback": [
      "\u001b[0;31m---------------------------------------------------------------------------\u001b[0m",
      "\u001b[0;31mRuntimeError\u001b[0m                              Traceback (most recent call last)",
      "Cell \u001b[0;32mIn[46], line 3\u001b[0m\n\u001b[1;32m      1\u001b[0m \u001b[38;5;66;03m# Save the model\u001b[39;00m\n\u001b[1;32m      2\u001b[0m model_path \u001b[38;5;241m=\u001b[39m Path(\u001b[38;5;124m\"\u001b[39m\u001b[38;5;124m../models\u001b[39m\u001b[38;5;124m\"\u001b[39m)\n\u001b[0;32m----> 3\u001b[0m \u001b[43mtorch\u001b[49m\u001b[38;5;241;43m.\u001b[39;49m\u001b[43msave\u001b[49m\u001b[43m(\u001b[49m\u001b[43mmodel_0\u001b[49m\u001b[38;5;241;43m.\u001b[39;49m\u001b[43mstate_dict\u001b[49m\u001b[43m(\u001b[49m\u001b[43m)\u001b[49m\u001b[43m,\u001b[49m\u001b[43m \u001b[49m\u001b[43mmodel_path\u001b[49m\u001b[43m)\u001b[49m\n\u001b[1;32m      4\u001b[0m \u001b[38;5;28mprint\u001b[39m(\u001b[38;5;124mf\u001b[39m\u001b[38;5;124m\"\u001b[39m\u001b[38;5;124mModel saved to \u001b[39m\u001b[38;5;132;01m{\u001b[39;00mmodel_path\u001b[38;5;132;01m}\u001b[39;00m\u001b[38;5;124m\"\u001b[39m)\n",
      "File \u001b[0;32m~/GenXPS/genXPS/.venv/lib/python3.12/site-packages/torch/serialization.py:651\u001b[0m, in \u001b[0;36msave\u001b[0;34m(obj, f, pickle_module, pickle_protocol, _use_new_zipfile_serialization, _disable_byteorder_record)\u001b[0m\n\u001b[1;32m    648\u001b[0m _check_save_filelike(f)\n\u001b[1;32m    650\u001b[0m \u001b[38;5;28;01mif\u001b[39;00m _use_new_zipfile_serialization:\n\u001b[0;32m--> 651\u001b[0m     \u001b[38;5;28;01mwith\u001b[39;00m \u001b[43m_open_zipfile_writer\u001b[49m\u001b[43m(\u001b[49m\u001b[43mf\u001b[49m\u001b[43m)\u001b[49m \u001b[38;5;28;01mas\u001b[39;00m opened_zipfile:\n\u001b[1;32m    652\u001b[0m         _save(obj, opened_zipfile, pickle_module, pickle_protocol, _disable_byteorder_record)\n\u001b[1;32m    653\u001b[0m         \u001b[38;5;28;01mreturn\u001b[39;00m\n",
      "File \u001b[0;32m~/GenXPS/genXPS/.venv/lib/python3.12/site-packages/torch/serialization.py:525\u001b[0m, in \u001b[0;36m_open_zipfile_writer\u001b[0;34m(name_or_buffer)\u001b[0m\n\u001b[1;32m    523\u001b[0m \u001b[38;5;28;01melse\u001b[39;00m:\n\u001b[1;32m    524\u001b[0m     container \u001b[38;5;241m=\u001b[39m _open_zipfile_writer_buffer\n\u001b[0;32m--> 525\u001b[0m \u001b[38;5;28;01mreturn\u001b[39;00m \u001b[43mcontainer\u001b[49m\u001b[43m(\u001b[49m\u001b[43mname_or_buffer\u001b[49m\u001b[43m)\u001b[49m\n",
      "File \u001b[0;32m~/GenXPS/genXPS/.venv/lib/python3.12/site-packages/torch/serialization.py:496\u001b[0m, in \u001b[0;36m_open_zipfile_writer_file.__init__\u001b[0;34m(self, name)\u001b[0m\n\u001b[1;32m    494\u001b[0m     \u001b[38;5;28msuper\u001b[39m()\u001b[38;5;241m.\u001b[39m\u001b[38;5;21m__init__\u001b[39m(torch\u001b[38;5;241m.\u001b[39m_C\u001b[38;5;241m.\u001b[39mPyTorchFileWriter(\u001b[38;5;28mself\u001b[39m\u001b[38;5;241m.\u001b[39mfile_stream))\n\u001b[1;32m    495\u001b[0m \u001b[38;5;28;01melse\u001b[39;00m:\n\u001b[0;32m--> 496\u001b[0m     \u001b[38;5;28msuper\u001b[39m()\u001b[38;5;241m.\u001b[39m\u001b[38;5;21m__init__\u001b[39m(\u001b[43mtorch\u001b[49m\u001b[38;5;241;43m.\u001b[39;49m\u001b[43m_C\u001b[49m\u001b[38;5;241;43m.\u001b[39;49m\u001b[43mPyTorchFileWriter\u001b[49m\u001b[43m(\u001b[49m\u001b[38;5;28;43mself\u001b[39;49m\u001b[38;5;241;43m.\u001b[39;49m\u001b[43mname\u001b[49m\u001b[43m)\u001b[49m)\n",
      "\u001b[0;31mRuntimeError\u001b[0m: File ../models cannot be opened."
     ]
    }
   ],
   "source": [
    "# Save the model\n",
    "model_path = Path(\"../models\")\n",
    "torch.save(model_0.state_dict(), model_path)\n",
    "print(f\"Model saved to {model_path}\")\n"
   ]
  },
  {
   "cell_type": "markdown",
   "metadata": {},
   "source": [
    "# Testing"
   ]
  },
  {
   "cell_type": "code",
   "execution_count": 44,
   "metadata": {},
   "outputs": [
    {
     "name": "stdout",
     "output_type": "stream",
     "text": [
      "  Class No.  Functional Group       Sensitivity    Total Frequency\n",
      "-----------  -------------------  -------------  -----------------\n",
      "          0  alkene                    0.782918               1423\n",
      "          1  alkyne                                              0\n",
      "          2  benzene ring              0.910129               6518\n",
      "          3  naphthalene               0.746269                315\n",
      "          4  amine                     0.871537               1890\n",
      "          5  alcohol (aromatic)        0.629032                288\n",
      "          6  alcohol (aliphatic)       0.773585               1114\n",
      "          7  ether (aromatic)          0.812183               1968\n",
      "          8  ether (aliphatic)         0.914388               4338\n",
      "          9  alkyl halide (F)          0.977199               1435\n",
      "         10  alkyl halide (Cl)         0.941441               1069\n",
      "         11  alkyl halide (Br)                                   0\n",
      "         12  alkyl halide (I)                                    0\n",
      "         13  thiol                                               0\n",
      "         14  aldehyde                                            0\n",
      "         15  ketone (aromatic)         0.681818                273\n",
      "         16  ketone (aliphatic)        0.776398                896\n",
      "         17  ester (aromatic)          0.726667                787\n",
      "         18  ester (aliphatic)         0.898867               6251\n",
      "         19  carboxylic acid           0.761905                576\n",
      "         20  amide                     0.933486               2191\n",
      "         21  nitrite                                             0\n",
      "         22  nitrate                   0.955556                257\n",
      "         23  nitrile                   0.889764                587\n",
      "         24  epoxide                   0.62069                 273\n",
      "         25  imide                     0.857143                571\n",
      "         26  acid chloride                                       0\n",
      "         27  anhydride                 0.712042                869\n",
      "         28  nitro (aromatic)          0.956522                292\n",
      "         29  sulfide                   0.926829                570\n",
      "         30  sulfone                   0.981818                584\n",
      "         31  sulfonate                 0.952381                289\n",
      "         32  azide                                               0\n",
      "         33  chlorobenzene             0.961039                856\n",
      "         34  bromobenzene              0.784314                275\n",
      "         35  siloxane                  0.765217                585\n",
      "         36  phosphazene               0.872727                288\n",
      "         37  phenoxy                   0.872727                288\n",
      "         38  pyridine                  0.903226                623\n",
      "\n",
      "Average sensitivity (excluding classes with no data): 0.84\n"
     ]
    }
   ],
   "source": [
    "from sklearn.metrics import recall_score\n",
    "import numpy as np\n",
    "import os\n",
    "import pandas as pd \n",
    "from tabulate import tabulate\n",
    "\n",
    "def get_label_dict(path_to_file):\n",
    "    '''\n",
    "    Extract the list of functional groups\n",
    "    '''\n",
    "    spreadsheet_f = pd.ExcelFile(path_to_file)\n",
    "    df_f = pd.read_excel(spreadsheet_f)\n",
    "    return list(df_f['Functional groups'])\n",
    "\n",
    "data_path = Path(\"../data/experimental_data\")\n",
    "CEL_FG_path = os.path.join(data_path, 'cellulose (CEL)', 'CEL_FG.xlsx')\n",
    "FG_list = get_label_dict(CEL_FG_path)\n",
    "\n",
    "y_test_np = y_test.cpu().numpy()\n",
    "test_pred_np = test_pred.cpu().numpy()\n",
    "\n",
    "report_array = []  # New array for sensitivity values\n",
    "\n",
    "# Calculate sensitivity for each class and total frequency\n",
    "for i in range(39):  # Assuming 39 classes\n",
    "    # Check if the class has positive samples in the test data\n",
    "    if np.sum(y_test_np[:, i]) > 0:  # If there are positive samples\n",
    "        sensitivity = recall_score(y_test_np[:, i], test_pred_np[:, i], average=None)\n",
    "        total_frequency = np.sum(bin_label_array[:, i])  # Count total occurrences of the class in the training data\n",
    "        report_array.append([i, FG_list[i], sensitivity[1], total_frequency])  # Append class index, sensitivity value, total frequency, and functional group\n",
    "    else:\n",
    "        report_array.append([i, FG_list[i], None, 0])  # No sensitivity value for this class, frequency is 0, and functional group\n",
    "\n",
    "# Calculate the average sensitivity value, ignoring empty entries\n",
    "sensitivity_values = [row[2] for row in report_array if row[2] is not None]\n",
    "average_sensitivity = np.mean(sensitivity_values)\n",
    "    \n",
    "\n",
    "print(tabulate(report_array, headers=['Class No.', 'Functional Group', 'Sensitivity', 'Total Frequency', ]))\n",
    "print(f\"\\nAverage sensitivity (excluding classes with no data): {average_sensitivity:.2f}\")\n",
    "\n",
    "pd.DataFrame(report_array, columns=['Class No.', 'Functional Group', 'Sensitivity', 'Total Frequency']).to_csv('../reports/model0.csv', index=False)\n",
    "\n",
    "\n",
    "\n"
   ]
  },
  {
   "cell_type": "code",
   "execution_count": 45,
   "metadata": {},
   "outputs": [
    {
     "data": {
      "image/png": "[encoded data removed]",
      "text/plain": [
       "<Figure size 640x480 with 1 Axes>"
      ]
     },
     "metadata": {},
     "output_type": "display_data"
    }
   ],
   "source": [
    "import matplotlib.pyplot as plt\n",
    "\n",
    "# Extract sensitivity and total frequency from report_array\n",
    "sensitivity_values = [row[2] for row in report_array if row[2] is not None]\n",
    "total_frequencies = [row[3] for row in report_array if row[2] is not None]\n",
    "\n",
    "# Plot sensitivity against total frequency\n",
    "plt.scatter(total_frequencies, sensitivity_values)\n",
    "plt.xlabel('Total Frequency')\n",
    "plt.ylabel('Sensitivity')\n",
    "plt.title('Sensitivity vs Total Frequency')\n",
    "plt.savefig('../reports/sensitivity_vs_total_frequency.png')\n",
    "plt.show()\n",
    "\n",
    "\n",
    "\n",
    "\n"
   ]
  },
  {
   "cell_type": "code",
   "execution_count": 72,
   "metadata": {},
   "outputs": [
    {
     "name": "stdout",
     "output_type": "stream",
     "text": [
      "Confusion Matrix for Class 0:\n",
      "[[3715    4]\n",
      " [ 107  174]]\n",
      "Confusion Matrix for Class 1:\n",
      "[[4000]]\n",
      "Confusion Matrix for Class 2:\n",
      "[[2682    5]\n",
      " [ 139 1174]]\n",
      "Confusion Matrix for Class 3:\n",
      "[[3933    0]\n",
      " [  32   35]]\n",
      "Confusion Matrix for Class 4:\n",
      "[[3601    2]\n",
      " [  68  329]]\n",
      "Confusion Matrix for Class 5:\n",
      "[[3938    0]\n",
      " [  28   34]]\n",
      "Confusion Matrix for Class 6:\n",
      "[[3787    1]\n",
      " [  77  135]]\n",
      "Confusion Matrix for Class 7:\n",
      "[[3601    5]\n",
      " [ 104  290]]\n",
      "Confusion Matrix for Class 8:\n",
      "[[3149   10]\n",
      " [ 119  722]]\n",
      "Confusion Matrix for Class 9:\n",
      "[[3693    0]\n",
      " [   9  298]]\n",
      "Confusion Matrix for Class 10:\n",
      "[[3778    0]\n",
      " [  16  206]]\n",
      "Confusion Matrix for Class 11:\n",
      "[[4000]]\n",
      "Confusion Matrix for Class 12:\n",
      "[[4000]]\n",
      "Confusion Matrix for Class 13:\n",
      "[[4000]]\n",
      "Confusion Matrix for Class 14:\n",
      "[[4000]]\n",
      "Confusion Matrix for Class 15:\n",
      "[[3956    0]\n",
      " [  17   27]]\n",
      "Confusion Matrix for Class 16:\n",
      "[[3838    1]\n",
      " [  50  111]]\n",
      "Confusion Matrix for Class 17:\n",
      "[[3850    0]\n",
      " [  50  100]]\n",
      "Confusion Matrix for Class 18:\n",
      "[[2734   30]\n",
      " [ 157 1079]]\n",
      "Confusion Matrix for Class 19:\n",
      "[[3894    1]\n",
      " [  29   76]]\n",
      "Confusion Matrix for Class 20:\n",
      "[[3549   15]\n",
      " [  45  391]]\n",
      "Confusion Matrix for Class 21:\n",
      "[[4000]]\n",
      "Confusion Matrix for Class 22:\n",
      "[[3955    0]\n",
      " [   2   43]]\n",
      "Confusion Matrix for Class 23:\n",
      "[[3871    2]\n",
      " [  23  104]]\n",
      "Confusion Matrix for Class 24:\n",
      "[[3942    0]\n",
      " [  27   31]]\n",
      "Confusion Matrix for Class 25:\n",
      "[[3881    0]\n",
      " [  22   97]]\n",
      "Confusion Matrix for Class 26:\n",
      "[[4000]]\n",
      "Confusion Matrix for Class 27:\n",
      "[[3808    1]\n",
      " [  69  122]]\n",
      "Confusion Matrix for Class 28:\n",
      "[[3954    0]\n",
      " [   2   44]]\n",
      "Confusion Matrix for Class 29:\n",
      "[[3877    0]\n",
      " [  19  104]]\n",
      "Confusion Matrix for Class 30:\n",
      "[[3890    0]\n",
      " [   5  105]]\n",
      "Confusion Matrix for Class 31:\n",
      "[[3937    0]\n",
      " [   5   58]]\n",
      "Confusion Matrix for Class 32:\n",
      "[[4000]]\n",
      "Confusion Matrix for Class 33:\n",
      "[[3846    0]\n",
      " [  10  144]]\n",
      "Confusion Matrix for Class 34:\n",
      "[[3949    0]\n",
      " [  16   35]]\n",
      "Confusion Matrix for Class 35:\n",
      "[[3885    0]\n",
      " [  31   84]]\n",
      "Confusion Matrix for Class 36:\n",
      "[[3945    0]\n",
      " [   8   47]]\n",
      "Confusion Matrix for Class 37:\n",
      "[[3945    0]\n",
      " [   9   46]]\n",
      "Confusion Matrix for Class 38:\n",
      "[[3876    0]\n",
      " [  22  102]]\n"
     ]
    },
    {
     "name": "stderr",
     "output_type": "stream",
     "text": [
      "/root/GenXPS/genXPS/.venv/lib/python3.12/site-packages/sklearn/metrics/_classification.py:409: UserWarning: A single label was found in 'y_true' and 'y_pred'. For the confusion matrix to have the correct shape, use the 'labels' parameter to pass all known labels.\n",
      "  warnings.warn(\n",
      "/root/GenXPS/genXPS/.venv/lib/python3.12/site-packages/sklearn/metrics/_classification.py:409: UserWarning: A single label was found in 'y_true' and 'y_pred'. For the confusion matrix to have the correct shape, use the 'labels' parameter to pass all known labels.\n",
      "  warnings.warn(\n",
      "/root/GenXPS/genXPS/.venv/lib/python3.12/site-packages/sklearn/metrics/_classification.py:409: UserWarning: A single label was found in 'y_true' and 'y_pred'. For the confusion matrix to have the correct shape, use the 'labels' parameter to pass all known labels.\n",
      "  warnings.warn(\n",
      "/root/GenXPS/genXPS/.venv/lib/python3.12/site-packages/sklearn/metrics/_classification.py:409: UserWarning: A single label was found in 'y_true' and 'y_pred'. For the confusion matrix to have the correct shape, use the 'labels' parameter to pass all known labels.\n",
      "  warnings.warn(\n",
      "/root/GenXPS/genXPS/.venv/lib/python3.12/site-packages/sklearn/metrics/_classification.py:409: UserWarning: A single label was found in 'y_true' and 'y_pred'. For the confusion matrix to have the correct shape, use the 'labels' parameter to pass all known labels.\n",
      "  warnings.warn(\n",
      "/root/GenXPS/genXPS/.venv/lib/python3.12/site-packages/sklearn/metrics/_classification.py:409: UserWarning: A single label was found in 'y_true' and 'y_pred'. For the confusion matrix to have the correct shape, use the 'labels' parameter to pass all known labels.\n",
      "  warnings.warn(\n",
      "/root/GenXPS/genXPS/.venv/lib/python3.12/site-packages/sklearn/metrics/_classification.py:409: UserWarning: A single label was found in 'y_true' and 'y_pred'. For the confusion matrix to have the correct shape, use the 'labels' parameter to pass all known labels.\n",
      "  warnings.warn(\n",
      "/root/GenXPS/genXPS/.venv/lib/python3.12/site-packages/sklearn/metrics/_classification.py:409: UserWarning: A single label was found in 'y_true' and 'y_pred'. For the confusion matrix to have the correct shape, use the 'labels' parameter to pass all known labels.\n",
      "  warnings.warn(\n"
     ]
    }
   ],
   "source": [
    "from sklearn.metrics import confusion_matrix\n",
    "\n",
    "# Calculate the confusion matrix for each class\n",
    "confusion_matrices = []\n",
    "for i in range(39):  # Assuming 39 classes\n",
    "    y_test_class = y_test_np[:, i]\n",
    "    test_pred_class = test_pred_np[:, i]\n",
    "    confusion_matrix_class = confusion_matrix(y_test_class, test_pred_class)\n",
    "    confusion_matrices.append(confusion_matrix_class)\n",
    "\n",
    "# Print the confusion matrix for each class\n",
    "for i, matrix in enumerate(confusion_matrices):\n",
    "    print(f\"Confusion Matrix for Class {i}:\")\n",
    "    print(matrix)"
   ]
  },
  {
   "cell_type": "code",
   "execution_count": null,
   "metadata": {},
   "outputs": [],
   "source": []
  }
 ],
 "metadata": {
  "kernelspec": {
   "display_name": ".venv",
   "language": "python",
   "name": "python3"
  },
  "language_info": {
   "codemirror_mode": {
    "name": "ipython",
    "version": 3
   },
   "file_extension": ".py",
   "mimetype": "text/x-python",
   "name": "python",
   "nbconvert_exporter": "python",
   "pygments_lexer": "ipython3",
   "version": "3.12.3"
  }
 },
 "nbformat": 4,
 "nbformat_minor": 2
}
