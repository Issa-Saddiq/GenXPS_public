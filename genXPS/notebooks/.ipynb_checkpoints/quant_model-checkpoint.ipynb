{
 "cells": [
  {
   "cell_type": "code",
   "execution_count": 1,
   "metadata": {},
   "outputs": [],
   "source": [
    "import torch\n",
    "from sklearn.model_selection import train_test_split\n",
    "from torch import nn\n",
    "from torch.utils.data import Dataset, DataLoader\n",
    "import os \n",
    "import csv\n",
    "import random\n",
    "import numpy as np\n",
    "import pandas as pd\n",
    "import matplotlib.pyplot as plt\n",
    "from pathlib import Path\n",
    "import matplotlib.pyplot as plt"
   ]
  },
  {
   "cell_type": "markdown",
   "metadata": {},
   "source": [
    "# Device Setup"
   ]
  },
  {
   "cell_type": "code",
   "execution_count": 2,
   "metadata": {},
   "outputs": [
    {
     "name": "stdout",
     "output_type": "stream",
     "text": [
      "Using device: cuda\n",
      "GPU Name: Tesla T4\n",
      "Number of GPUs available: 1\n"
     ]
    }
   ],
   "source": [
    "device = torch.device(\"cuda\" if torch.cuda.is_available() else \"cpu\")\n",
    "print(f\"Using device: {device}\")\n",
    "\n",
    "# Optionally, you can print more details about the GPU if available\n",
    "if torch.cuda.is_available():\n",
    "    print(f\"GPU Name: {torch.cuda.get_device_name(0)}\")\n",
    "    print(f\"Number of GPUs available: {torch.cuda.device_count()}\")"
   ]
  },
  {
   "cell_type": "markdown",
   "metadata": {},
   "source": [
    "# Data Preparation\n",
    "Normalise spectra and labels to ensure account for fact intensities are affected by experimental factors. Model should be able to learn relative peak shapes and positions from normalised spectra. \n"
   ]
  },
  {
   "cell_type": "code",
   "execution_count": 3,
   "metadata": {},
   "outputs": [],
   "source": [
    "def fg_checker(label):\n",
    "    bin_fg_list = []\n",
    "    for i in range(len(label)):\n",
    "        if float(label[i]) == 0:\n",
    "            bin_fg_list.append(0)\n",
    "        else:\n",
    "            bin_fg_list.append(1)\n",
    "    \n",
    "    return bin_fg_list\n",
    "\n",
    "def label_normaliser(label):\n",
    "    total = sum(label)\n",
    "    if total == 0:\n",
    "        return [0 for _ in label]  # Return an array of zeros if total is zero\n",
    "    else:\n",
    "        return [value / total for value in label]\n",
    "    \n",
    "def normalize_spectra_by_area(spectra):\n",
    "    \"\"\"\n",
    "    Normalize XPS spectra by area (integral under the curve).\n",
    "    \n",
    "    Args:\n",
    "        spectra (np.ndarray): 2D array of shape (num_samples, num_points) representing the spectra.\n",
    "    \n",
    "    Returns:\n",
    "        np.ndarray: Normalized spectra with area under each spectrum equal to 1.\n",
    "    \"\"\"\n",
    "    # Compute the area under each spectrum (sum of intensities)\n",
    "    areas = np.sum(spectra, axis=1, keepdims=True)\n",
    "    \n",
    "    # Avoid division by zero (if area is zero, return the original spectrum)\n",
    "    areas[areas == 0] = 1\n",
    "    \n",
    "    # Normalize each spectrum by its area\n",
    "    normalized_spectra = spectra / areas\n",
    "    \n",
    "    return normalized_spectra\n",
    "\n",
    "\n",
    "#Create a custom dataset class\n",
    "class SpectraDataset(Dataset):\n",
    "    def __init__(self, spectra, labels):\n",
    "        self.spectra = spectra\n",
    "        self.labels = labels\n",
    "\n",
    "    def __len__(self):\n",
    "        return len(self.spectra)\n",
    "\n",
    "    def __getitem__(self, idx):\n",
    "        return self.spectra[idx], self.labels[idx]\n",
    "\n"
   ]
  },
  {
   "cell_type": "code",
   "execution_count": 4,
   "metadata": {},
   "outputs": [
    {
     "name": "stdout",
     "output_type": "stream",
     "text": [
      "torch.Size([20000, 1600])\n",
      "torch.Size([20000, 39])\n",
      "1600 39\n"
     ]
    }
   ],
   "source": [
    "# prepare list of file paths for file handeling\n",
    "spectra_dir = Path('../data/synthetic_data_big/synthetic_spectra')\n",
    "labels_dir = Path('../data/synthetic_data_big/synthetic_labels')\n",
    "\n",
    "all_spectra = [spectra_dir / file for file in os.listdir(spectra_dir)]\n",
    "all_labels = [labels_dir / file for file in os.listdir(labels_dir)]\n",
    "\n",
    "#extracting synthetic spectrum data and converting to tensor\n",
    "all_spectra.sort(key=lambda x: int(x.stem.split('_')[1]))\n",
    "spectrum_list = []\n",
    "for spectra_path in all_spectra:\n",
    "    spectrum_df = pd.read_csv(spectra_path)\n",
    "    spectrum_list.append(spectrum_df)\n",
    "\n",
    "spectrum_array = np.array(spectrum_list).squeeze()\n",
    "spectrum_tensor = torch.tensor(spectrum_array,dtype=torch.float32)\n",
    "\n",
    "# Normalize spectra by area\n",
    "spectrum_tensor = torch.tensor(normalize_spectra_by_area(spectrum_array), dtype=torch.float32)\n",
    "\n",
    "#extracting synthetic label data and converting to tensor\n",
    "all_labels.sort(key=lambda x: int(x.stem.split('_')[1]))\n",
    "label_list = []\n",
    "for label_path in all_labels:\n",
    "    label_df = pd.read_csv(label_path)\n",
    "    label_list.append(label_df)\n",
    "\n",
    "label_array = np.array(label_list).squeeze()\n",
    "normalised_label = np.array([label_normaliser(i) for i in label_array])\n",
    "\n",
    "\n",
    "label_tensor = torch.tensor(normalised_label,dtype=torch.float32)\n",
    "\n",
    "\n",
    "print(spectrum_tensor.shape)\n",
    "print(label_tensor.shape)\n",
    "\n",
    "\n",
    "#split into traning/testing batches\n",
    "X_train, X_test, y_train, y_test = train_test_split(spectrum_tensor, \n",
    "                                                    label_tensor, \n",
    "                                                    test_size=0.2, # 20% test, 80% train\n",
    "                                                    random_state=42) # make the random split reproducible\n",
    "\n",
    "# Create dataset\n",
    "train_dataset = SpectraDataset(X_train, y_train)\n",
    "test_dataset = SpectraDataset(X_test, y_test)\n",
    "\n",
    "# Create DataLoader\n",
    "batch_size = 32  # You can adjust this based on your GPU memory\n",
    "train_loader = DataLoader(train_dataset, batch_size=batch_size, shuffle=True, num_workers=2)  # Use num_workers for parallel data loading\n",
    "test_loader = DataLoader(test_dataset, batch_size=batch_size, shuffle=False)\n",
    "\n",
    "\n",
    "len(X_train), len(X_test), len(y_train), len(y_test)\n",
    "\n",
    "input_features = spectrum_tensor.shape[1]\n",
    "ouput_features = label_tensor.shape[1]\n",
    "\n",
    "print(input_features,ouput_features)\n"
   ]
  },
  {
   "cell_type": "code",
   "execution_count": 5,
   "metadata": {},
   "outputs": [],
   "source": [
    "def mean_absolute_error(y_true, y_pred):\n",
    "    return torch.mean(torch.abs(y_true - y_pred)).item()"
   ]
  },
  {
   "cell_type": "markdown",
   "metadata": {},
   "source": [
    "# Setting Up Model"
   ]
  },
  {
   "cell_type": "code",
   "execution_count": 6,
   "metadata": {},
   "outputs": [],
   "source": [
    "# 1. Construct a model class that subclasses nn.Module\n",
    "class RegressionV0(nn.Module):\n",
    "    def __init__(self):\n",
    "        super().__init__()\n",
    "        # 2. Create 2 nn.Linear layers capable of handling X and y input and output shapes\n",
    "        self.layer_1 = nn.Linear(in_features=input_features, out_features=512) # takes in 1595 features (X), produces 5 features\n",
    "        self.layer_2 = nn.Linear(in_features=512, out_features=256)\n",
    "        self.layer_3 = nn.Linear(in_features=256, out_features=128)\n",
    "        self.layer_4 = nn.Linear(in_features=128, out_features=ouput_features) # takes in 5 features, produces 5 feature (y)\n",
    "    \n",
    "    # Activation function\n",
    "        self.relu = nn.ReLU()\n",
    "        \n",
    "        # Dropout for regularization\n",
    "        self.dropout = nn.Dropout(p=0.3)\n",
    "\n",
    "    def forward(self, x):\n",
    "        x = self.relu(self.layer_1(x))\n",
    "        x = self.dropout(x)\n",
    "        x = self.relu(self.layer_2(x))\n",
    "        x = self.dropout(x)\n",
    "        x = self.relu(self.layer_3(x))\n",
    "        x = self.dropout(x)\n",
    "        x = self.layer_4(x)  # Output layer (logits)\n",
    "        return x\n",
    "\n",
    "# 4. Create an instance of the model and send it to target device\n",
    "quant_model_0 = RegressionV0().to(device)\n",
    "quant_model_0\n",
    "\n",
    "\n",
    "# loss_fn = nn.BCELoss() # BCELoss = no sigmoid built-in\n",
    "loss_fn = nn.MSELoss() # BCEWithLogitsLoss = sigmoid built-in\n",
    "\n",
    "# Create an optimizer\n",
    "optimizer = torch.optim.Adam(params=quant_model_0.parameters(), \n",
    "                            lr=1e-7)\n",
    "\n",
    "# Calculate accuracy (a classification metric)\n",
    "def accuracy_fn(y_true, y_pred):\n",
    "    correct = (y_true == y_pred).all(dim=1).sum().item()  # Check if all values in each label are correct\n",
    "    acc = (correct / len(y_pred)) * 100 \n",
    "    return acc\n",
    "\n",
    "\n",
    "# Create a list to store loss values\n",
    "training_loss_values = []\n",
    "testing_loss_values = []"
   ]
  },
  {
   "cell_type": "markdown",
   "metadata": {},
   "source": [
    "# Training"
   ]
  },
  {
   "cell_type": "code",
   "execution_count": 8,
   "metadata": {},
   "outputs": [
    {
     "name": "stdout",
     "output_type": "stream",
     "text": [
      "Epoch: 0 | Loss: 0.01656, Train MAE: 0.04945 | Test loss: 0.01269\n",
      "Epoch: 4 | Loss: 0.01608, Train MAE: 0.04946 | Test loss: 0.01264\n",
      "Epoch: 8 | Loss: 0.01756, Train MAE: 0.04909 | Test loss: 0.01260\n",
      "Epoch: 12 | Loss: 0.01883, Train MAE: 0.04947 | Test loss: 0.01256\n",
      "Epoch: 16 | Loss: 0.01633, Train MAE: 0.04856 | Test loss: 0.01252\n",
      "Epoch: 20 | Loss: 0.01676, Train MAE: 0.04884 | Test loss: 0.01249\n",
      "Epoch: 24 | Loss: 0.01761, Train MAE: 0.04982 | Test loss: 0.01245\n",
      "Epoch: 28 | Loss: 0.01636, Train MAE: 0.04906 | Test loss: 0.01242\n",
      "Epoch: 32 | Loss: 0.01849, Train MAE: 0.05060 | Test loss: 0.01239\n",
      "Epoch: 36 | Loss: 0.01443, Train MAE: 0.04781 | Test loss: 0.01235\n",
      "Epoch: 40 | Loss: 0.01681, Train MAE: 0.04839 | Test loss: 0.01233\n",
      "Epoch: 44 | Loss: 0.01763, Train MAE: 0.04987 | Test loss: 0.01230\n",
      "Epoch: 48 | Loss: 0.01410, Train MAE: 0.04772 | Test loss: 0.01227\n",
      "Epoch: 52 | Loss: 0.01653, Train MAE: 0.05053 | Test loss: 0.01225\n",
      "Epoch: 56 | Loss: 0.01580, Train MAE: 0.04913 | Test loss: 0.01223\n",
      "Epoch: 60 | Loss: 0.01874, Train MAE: 0.05041 | Test loss: 0.01220\n",
      "Epoch: 64 | Loss: 0.01716, Train MAE: 0.04767 | Test loss: 0.01218\n",
      "Epoch: 68 | Loss: 0.01466, Train MAE: 0.04811 | Test loss: 0.01216\n",
      "Epoch: 72 | Loss: 0.01498, Train MAE: 0.04870 | Test loss: 0.01214\n",
      "Epoch: 76 | Loss: 0.01620, Train MAE: 0.04881 | Test loss: 0.01213\n",
      "Epoch: 80 | Loss: 0.01357, Train MAE: 0.04752 | Test loss: 0.01211\n",
      "Epoch: 84 | Loss: 0.01609, Train MAE: 0.04884 | Test loss: 0.01209\n",
      "Epoch: 88 | Loss: 0.01658, Train MAE: 0.04919 | Test loss: 0.01208\n",
      "Epoch: 92 | Loss: 0.01693, Train MAE: 0.04955 | Test loss: 0.01207\n",
      "Epoch: 96 | Loss: 0.01810, Train MAE: 0.04944 | Test loss: 0.01205\n",
      "Epoch: 100 | Loss: 0.01596, Train MAE: 0.04809 | Test loss: 0.01204\n",
      "Epoch: 104 | Loss: 0.01549, Train MAE: 0.04768 | Test loss: 0.01203\n"
     ]
    },
    {
     "ename": "KeyboardInterrupt",
     "evalue": "",
     "output_type": "error",
     "traceback": [
      "\u001b[0;31m---------------------------------------------------------------------------\u001b[0m",
      "\u001b[0;31mKeyboardInterrupt\u001b[0m                         Traceback (most recent call last)",
      "Cell \u001b[0;32mIn[8], line 26\u001b[0m\n\u001b[1;32m     22\u001b[0m epoch_loss \u001b[38;5;241m=\u001b[39m \u001b[38;5;241m0\u001b[39m  \u001b[38;5;66;03m# Initialize epoch loss\u001b[39;00m\n\u001b[1;32m     24\u001b[0m \u001b[38;5;28;01mfor\u001b[39;00m X_batch, y_batch \u001b[38;5;129;01min\u001b[39;00m train_loader:\n\u001b[1;32m     25\u001b[0m     \u001b[38;5;66;03m# Move data to target device\u001b[39;00m\n\u001b[0;32m---> 26\u001b[0m     X_batch, y_batch \u001b[38;5;241m=\u001b[39m \u001b[43mX_batch\u001b[49m\u001b[38;5;241;43m.\u001b[39;49m\u001b[43mto\u001b[49m\u001b[43m(\u001b[49m\u001b[43mdevice\u001b[49m\u001b[43m)\u001b[49m, y_batch\u001b[38;5;241m.\u001b[39mto(device)\n\u001b[1;32m     28\u001b[0m     \u001b[38;5;66;03m# 1. Forward pass (model outputs raw logits)\u001b[39;00m\n\u001b[1;32m     29\u001b[0m     y_logits \u001b[38;5;241m=\u001b[39m quant_model_0(X_batch)\u001b[38;5;241m.\u001b[39msqueeze()\n",
      "\u001b[0;31mKeyboardInterrupt\u001b[0m: "
     ]
    }
   ],
   "source": [
    "torch.manual_seed(42)\n",
    "\n",
    "# Set the number of epochs\n",
    "max_epochs = 200\n",
    "\n",
    "# Early stopping parameters\n",
    "patience = 5  # Number of epochs to wait for improvement\n",
    "min_delta = 0.00001  # Minimum change to qualify as an improvement\n",
    "\n",
    "# Initialize variables for early stopping\n",
    "best_test_loss = float('inf')\n",
    "patience_counter = 0\n",
    "\n",
    "# Put data to target device\n",
    "X_train, y_train = X_train.to(device), y_train.to(device)\n",
    "X_test, y_test = X_test.to(device), y_test.to(device)\n",
    "\n",
    "# Build training and evaluation loop\n",
    "for epoch in range(max_epochs):\n",
    "    ### Training\n",
    "    quant_model_0.train()\n",
    "    epoch_loss = 0  # Initialize epoch loss\n",
    "\n",
    "    for X_batch, y_batch in train_loader:\n",
    "        # Move data to target device\n",
    "        X_batch, y_batch = X_batch.to(device), y_batch.to(device)\n",
    "\n",
    "        # 1. Forward pass (model outputs raw logits)\n",
    "        y_logits = quant_model_0(X_batch).squeeze()\n",
    "        y_pred = y_logits\n",
    "\n",
    "        # 2. Calculate loss/accuracy\n",
    "        loss = loss_fn(y_logits, y_batch)\n",
    "        epoch_loss += loss.item()  # Accumulate loss for the epoch\n",
    "        \n",
    "        acc = accuracy_fn(y_true=y_batch, \n",
    "                          y_pred=y_pred) \n",
    "        \n",
    "        # Calculate Mean Absolute Error for training\n",
    "        train_mae = mean_absolute_error(y_batch, y_pred)\n",
    "\n",
    "        # 3. Optimizer zero grad\n",
    "        optimizer.zero_grad()\n",
    "\n",
    "        # 4. Loss backwards\n",
    "        loss.backward()\n",
    "\n",
    "        # 5. Optimizer step\n",
    "        optimizer.step()\n",
    "\n",
    "    # Average loss for the epoch\n",
    "    avg_training_loss = epoch_loss / len(train_loader)\n",
    "    training_loss_values.append(avg_training_loss)\n",
    "\n",
    "    ### Testing\n",
    "    quant_model_0.eval()\n",
    "    epoch_test_loss = 0  # Initialize test loss for the epoch\n",
    "    with torch.inference_mode():\n",
    "        for X_batch, y_batch in test_loader:  # Use the pre-defined test_loader\n",
    "            # Move data to device\n",
    "            X_batch, y_batch = X_batch.to(device), y_batch.to(device)\n",
    "            # 1. Forward pass\n",
    "            test_logits = quant_model_0(X_batch).squeeze() \n",
    "            # 2. Calculate loss\n",
    "            test_loss = loss_fn(test_logits, y_batch)\n",
    "            epoch_test_loss += test_loss.item()  # Accumulate test loss\n",
    "\n",
    "    # Average test loss for the epoch\n",
    "    avg_testing_loss = epoch_test_loss / len(test_loader)\n",
    "    testing_loss_values.append(avg_testing_loss)\n",
    "\n",
    "\n",
    "    # Print out what's happening every 10 epochs\n",
    "    if epoch % 4 == 0:\n",
    "        print(f\"Epoch: {epoch} | Loss: {loss:.5f}, Train MAE: {train_mae:.5f} | Test loss: {test_loss:.5f}\")\n",
    "\n",
    "    # Early stopping check\n",
    "    if avg_testing_loss < best_test_loss - min_delta:\n",
    "        best_test_loss = avg_testing_loss\n",
    "        patience_counter = 0  # Reset counter if we have an improvement\n",
    "    else:\n",
    "        patience_counter += 1  # Increment counter if no improvement\n",
    "\n",
    "    # Stop training if no improvement for 'patience' epochs\n",
    "    if patience_counter >= patience:\n",
    "        print(f\"Early stopping triggered after {epoch} epochs.\")\n",
    "        break\n",
    "    "
   ]
  },
  {
   "cell_type": "code",
   "execution_count": 9,
   "metadata": {},
   "outputs": [
    {
     "data": {
      "image/png": "[encoded data removed]",
      "text/plain": [
       "<Figure size 1000x500 with 1 Axes>"
      ]
     },
     "metadata": {},
     "output_type": "display_data"
    }
   ],
   "source": [
    "#  plot training curve\n",
    "plt.figure(figsize=(10, 5))\n",
    "plt.plot(training_loss_values, label='Training Loss')\n",
    "plt.plot(testing_loss_values, label='Test Loss')\n",
    "# plt.title('Training and Test Loss Over Time')\n",
    "plt.xlabel('Epochs')\n",
    "plt.ylabel('Loss')\n",
    "plt.legend()\n",
    "plt.savefig('../reports/quant_model_0_training_curve.png')\n",
    "plt.show()"
   ]
  },
  {
   "cell_type": "code",
   "execution_count": 13,
   "metadata": {},
   "outputs": [
    {
     "name": "stdout",
     "output_type": "stream",
     "text": [
      "Model saved to ../models/quant_model_0.pth\n"
     ]
    }
   ],
   "source": [
    "# Define model path\n",
    "model_dir = Path(\"../models\")\n",
    "model_dir.mkdir(parents=True, exist_ok=True)  # Create the directory if it doesn't exist\n",
    "\n",
    "# Save model\n",
    "model_path = model_dir / \"quant_model_0.pth\"  # Ensure a file name is included\n",
    "torch.save(quant_model_0.state_dict(), model_path)\n",
    "\n",
    "print(f\"Model saved to {model_path}\")"
   ]
  },
  {
   "cell_type": "code",
   "execution_count": 12,
   "metadata": {},
   "outputs": [
    {
     "name": "stdout",
     "output_type": "stream",
     "text": [
      "    Test Label  Predicted Label\n",
      "0     0.000000         0.039530\n",
      "1     0.000000        -0.000404\n",
      "2     0.282876         0.094441\n",
      "3     0.000000         0.008574\n",
      "4     0.000000         0.035019\n",
      "5     0.000000         0.012828\n",
      "6     0.000000         0.037983\n",
      "7     0.000000         0.022000\n",
      "8     0.000000         0.097952\n",
      "9     0.000000         0.020667\n",
      "10    0.151372         0.019560\n",
      "11    0.000000         0.001286\n",
      "12    0.000000        -0.000298\n",
      "13    0.000000         0.015724\n",
      "14    0.000000         0.001079\n",
      "15    0.000000        -0.001562\n",
      "16    0.000000         0.024357\n",
      "17    0.565752         0.018237\n",
      "18    0.000000         0.151646\n",
      "19    0.000000         0.004198\n",
      "20    0.000000         0.063760\n",
      "21    0.000000        -0.000483\n",
      "22    0.000000         0.003869\n",
      "23    0.000000         0.014879\n",
      "24    0.000000         0.009509\n",
      "25    0.000000         0.003680\n",
      "26    0.000000        -0.002271\n",
      "27    0.000000         0.003512\n",
      "28    0.000000         0.003676\n",
      "29    0.000000         0.013588\n",
      "30    0.000000         0.013866\n",
      "31    0.000000         0.004747\n",
      "32    0.000000        -0.001088\n",
      "33    0.000000         0.008009\n",
      "34    0.000000         0.023542\n",
      "35    0.000000         0.012015\n",
      "36    0.000000         0.000461\n",
      "37    0.000000         0.004533\n",
      "38    0.000000         0.021146\n"
     ]
    }
   ],
   "source": [
    "import pandas as pd\n",
    "\n",
    "# Convert tensors to numpy for better readability\n",
    "y_test_np = y_test.cpu().numpy() if y_test.is_cuda else y_test.numpy()\n",
    "test_logits_np = test_logits.cpu().detach().numpy() if test_logits.is_cuda else test_logits.detach().numpy()\n",
    "\n",
    "# Create a DataFrame\n",
    "df = pd.DataFrame({\"Test Label\": y_test_np[2], \"Predicted Label\": test_logits_np[2]})\n",
    "print(df)\n"
   ]
  },
  {
   "cell_type": "code",
   "execution_count": null,
   "metadata": {},
   "outputs": [],
   "source": []
  }
 ],
 "metadata": {
  "kernelspec": {
   "display_name": "Python 3 (ipykernel)",
   "language": "python",
   "name": "python3"
  },
  "language_info": {
   "codemirror_mode": {
    "name": "ipython",
    "version": 3
   },
   "file_extension": ".py",
   "mimetype": "text/x-python",
   "name": "python",
   "nbconvert_exporter": "python",
   "pygments_lexer": "ipython3",
   "version": "3.10.12"
  }
 },
 "nbformat": 4,
 "nbformat_minor": 4
}
